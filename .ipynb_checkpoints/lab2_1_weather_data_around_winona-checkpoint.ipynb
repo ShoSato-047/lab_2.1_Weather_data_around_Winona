{
 "cells": [
  {
   "cell_type": "markdown",
   "metadata": {
    "id": "hxJucrKj7mHJ"
   },
   "source": [
    "# Lab 2.1 - Weather Data Around Winona\n",
    "\n",
    "In this lab, we will download and combine a decades worth of weather data from the NOAA, focusing on weather stations within 500 miles of Winona.\n",
    "\n",
    "Here is the outline of the basic process.\n",
    "\n",
    "1. Install and investigate useful packages.\n",
    "2. Find all weather stations in proximity to Winona.\n",
    "3. Use a single station to prototype our tools.\n",
    "4. Automate the process of downloading and uncompressing data from all stations of interest.\n",
    "5. Output the results to a CSV file."
   ]
  },
  {
   "cell_type": "markdown",
   "metadata": {
    "id": "qeicFuT-8Vnx"
   },
   "source": [
    "## Problem 1 - Install and investigate useful tools.\n",
    "\n",
    "First, you should install and investigate the following tools.\n",
    "\n",
    "1. **`wget`** is a tool for programmically downloading data files from the web on the command line.  There is a Python wrapper to this tool that you can install with `pip` as shown below.\n",
    "2. **`geopy`** is a package that, among other things, implements a function for computing distances between two lat-long pairs. Again, install this package with `pip` as shown below.\n",
    "3. **`gzip`** is part of the standard Python library and"
   ]
  },
  {
   "cell_type": "code",
   "execution_count": 1,
   "metadata": {
    "id": "c8pRv9PyCvPy"
   },
   "outputs": [
    {
     "name": "stdout",
     "output_type": "stream",
     "text": [
      "Requirement already satisfied: wget in c:\\users\\mp5667di\\appdata\\local\\anaconda3\\envs\\polars\\lib\\site-packages (3.2)\n",
      "Note: you may need to restart the kernel to use updated packages.\n"
     ]
    }
   ],
   "source": [
    "%pip install wget"
   ]
  },
  {
   "cell_type": "code",
   "execution_count": 2,
   "metadata": {
    "id": "uPWEksjS9REC"
   },
   "outputs": [
    {
     "name": "stdout",
     "output_type": "stream",
     "text": [
      "Requirement already satisfied: geopy in c:\\users\\mp5667di\\appdata\\local\\anaconda3\\envs\\polars\\lib\\site-packages (2.4.1)Note: you may need to restart the kernel to use updated packages.\n",
      "\n",
      "Requirement already satisfied: geographiclib<3,>=1.52 in c:\\users\\mp5667di\\appdata\\local\\anaconda3\\envs\\polars\\lib\\site-packages (from geopy) (2.0)\n"
     ]
    }
   ],
   "source": [
    "%pip install geopy"
   ]
  },
  {
   "cell_type": "code",
   "execution_count": 3,
   "metadata": {},
   "outputs": [],
   "source": [
    "import wget\n",
    "import geopy"
   ]
  },
  {
   "cell_type": "markdown",
   "metadata": {
    "id": "uQXgqoPb9e53"
   },
   "source": [
    "#### Task 1.1 - Investigate using `wget` to download a file.\n",
    "\n",
    "Read the help/documentation on `wget` to figure out how to download the following data file [Some random data file from STAT 210] into the `./data` sub-folder.\n",
    "\n",
    "[https://github.com/yardsale8/STAT_210/raw/refs/heads/main/data/sars1.csv](https://github.com/yardsale8/STAT_210/raw/refs/heads/main/data/sars1.csv)"
   ]
  },
  {
   "cell_type": "code",
   "execution_count": 4,
   "metadata": {},
   "outputs": [
    {
     "name": "stdout",
     "output_type": "stream",
     "text": [
      "Help on module wget:\n",
      "\n",
      "NAME\n",
      "    wget - Download utility as an easy way to get file from the net\n",
      "\n",
      "DESCRIPTION\n",
      "      python -m wget <URL>\n",
      "      python wget.py <URL>\n",
      "\n",
      "    Downloads: http://pypi.python.org/pypi/wget/\n",
      "    Development: http://bitbucket.org/techtonik/python-wget/\n",
      "\n",
      "    wget.py is not option compatible with Unix wget utility,\n",
      "    to make command line interface intuitive for new people.\n",
      "\n",
      "    Public domain by anatoly techtonik <techtonik@gmail.com>\n",
      "    Also available under the terms of MIT license\n",
      "    Copyright (c) 2010-2015 anatoly techtonik\n",
      "\n",
      "FUNCTIONS\n",
      "    bar_adaptive(current, total, width=80)\n",
      "        Return progress bar string for given values in one of three\n",
      "        styles depending on available width:\n",
      "\n",
      "            [..  ] downloaded / total\n",
      "            downloaded / total\n",
      "            [.. ]\n",
      "\n",
      "        if total value is unknown or <= 0, show bytes counter using two\n",
      "        adaptive styles:\n",
      "\n",
      "            %s / unknown\n",
      "            %s\n",
      "\n",
      "        if there is not enough space on the screen, do not display anything\n",
      "\n",
      " used toreturned string doesn't include control characters like \n",
      "        place cursor at the beginning of the line to erase previous content.\n",
      "\n",
      "        this function leaves one free character at the end of string to\n",
      "        avoid automatic linefeed on Windows.\n",
      "\n",
      "    bar_thermometer(current, total, width=80)\n",
      "        Return thermometer style progress bar string. `total` argument\n",
      "        can not be zero. The minimum size of bar returned is 3. Example:\n",
      "\n",
      "            [..........            ]\n",
      "\n",
      " and spaces) are not included.ymbols (\n",
      "        See `bar_adaptive` for more information.\n",
      "\n",
      "    callback_progress(blocks, block_size, total_size, bar_function)\n",
      "        callback function for urlretrieve that is called when connection is\n",
      "        created and when once for each block\n",
      "\n",
      "        draws adaptive progress bar in terminal/console\n",
      "\n",
      "        use sys.stdout.write() instead of \"print,\", because it allows one more\n",
      "        symbol at the line end without linefeed on Windows\n",
      "\n",
      "        :param blocks: number of blocks transferred so far\n",
      "        :param block_size: in bytes\n",
      "        :param total_size: in bytes, can be -1 if server doesn't return it\n",
      "        :param bar_function: another callback function to visualize progress\n",
      "\n",
      "    detect_filename(url=None, out=None, headers=None, default='download.wget')\n",
      "        Return filename for saving file. If no filename is detected from output\n",
      "        argument, url or headers, return default (download.wget)\n",
      "\n",
      "    download(url, out=None, bar=<function bar_adaptive at 0x0000024357558180>)\n",
      "        High level function, which downloads URL into tmp file in current\n",
      "        directory and then renames it to filename autodetected from either URL\n",
      "        or HTTP headers.\n",
      "\n",
      "        :param bar: function to track download progress (visualize etc.)\n",
      "        :param out: output filename or directory\n",
      "        :return:    filename where URL is downloaded to\n",
      "\n",
      "    filename_fix_existing(filename)\n",
      "        Expands name portion of filename with numeric ' (x)' suffix to\n",
      "        return filename that doesn't exist already.\n",
      "\n",
      "    filename_from_headers(headers)\n",
      "        Detect filename from Content-Disposition headers if present.\n",
      "        http://greenbytes.de/tech/tc2231/\n",
      "\n",
      "        :param: headers as dict, list or string\n",
      "        :return: filename from content-disposition header or None\n",
      "\n",
      "    filename_from_url(url)\n",
      "        :return: detected filename as unicode or None\n",
      "\n",
      "    get_console_width()\n",
      "        Return width of available window area. Autodetection works for\n",
      "        Windows and POSIX platforms. Returns 80 for others\n",
      "\n",
      "        Code from http://bitbucket.org/techtonik/python-pager\n",
      "\n",
      "    to_unicode(filename)\n",
      "        :return: filename decoded from utf-8 to unicode\n",
      "\n",
      "    win32_unicode_console()\n",
      "        # enable unicode output to windows console\n",
      "        # https://stackoverflow.com/questions/878972/windows-cmd-encoding-change-causes-python-crash\n",
      "\n",
      "    win32_utf8_argv()\n",
      "        Uses shell32.GetCommandLineArgvW to get sys.argv as a list of Unicode\n",
      "        strings.\n",
      "\n",
      "        Versions 2.x of Python don't support Unicode in sys.argv on\n",
      "        Windows, with the underlying Windows API instead replacing multi-byte\n",
      "        characters with '?'.\n",
      "\n",
      "DATA\n",
      "    PY3K = True\n",
      "    usage = 'usage: wget.py [options] URL\\n\\noptions:\\n  -o --ou...ut file...\n",
      "\n",
      "VERSION\n",
      "    3.2\n",
      "\n",
      "FILE\n",
      "    c:\\users\\mp5667di\\appdata\\local\\anaconda3\\envs\\polars\\lib\\site-packages\\wget.py\n",
      "\n",
      "\n"
     ]
    }
   ],
   "source": [
    "help(wget)"
   ]
  },
  {
   "cell_type": "code",
   "execution_count": 5,
   "metadata": {
    "id": "D92NkCq_995Z"
   },
   "outputs": [],
   "source": [
    "# Your code here"
   ]
  },
  {
   "cell_type": "code",
   "execution_count": 6,
   "metadata": {},
   "outputs": [
    {
     "name": "stdout",
     "output_type": "stream",
     "text": [
      " Volume in drive C has no label.\n",
      " Volume Serial Number is 182D-87E4\n",
      "\n",
      " Directory of C:\\Users\\mp5667di\\OneDrive - Minnesota State\\Desktop\\Spring_2025\\DSCI_330\\lab_2.1_Weather_data_around_Winona\n",
      "\n",
      "01/28/2025  09:24 AM    <DIR>          .\n",
      "01/28/2025  08:11 AM    <DIR>          ..\n",
      "01/28/2025  08:18 AM                66 .gitattributes\n",
      "01/28/2025  08:23 AM    <DIR>          .ipynb_checkpoints\n",
      "01/28/2025  09:16 AM    <DIR>          data\n",
      "01/28/2025  09:24 AM            44,107 lab2_1_weather_data_around_winona.ipynb\n",
      "01/28/2025  08:18 AM                39 README.md\n",
      "               3 File(s)         44,212 bytes\n",
      "               4 Dir(s)  50,560,499,712 bytes free\n"
     ]
    }
   ],
   "source": [
    "!dir"
   ]
  },
  {
   "cell_type": "code",
   "execution_count": 7,
   "metadata": {},
   "outputs": [
    {
     "name": "stdout",
     "output_type": "stream",
     "text": [
      "File downloaded to: ./data/sars1 (1).csv\n"
     ]
    }
   ],
   "source": [
    "url = \"https://github.com/yardsale8/STAT_210/raw/refs/heads/main/data/sars1.csv\"\n",
    "output_path = \"./data/sars1.csv\"  # My file path\n",
    "\n",
    "filename = wget.download(url, out=output_path)\n",
    "\n",
    "print(f\"File downloaded to: {filename}\")"
   ]
  },
  {
   "cell_type": "markdown",
   "metadata": {
    "id": "vTW9hZXX-Ceq"
   },
   "source": [
    "#### Task 1.2 - Investigate using `geopy.distance.distance` to compute a distance in miles.\n",
    "\n",
    "1. Import the `distance` function from the `geopy.distance` submodule.\n",
    "2. Use Wikipedia to find the lat-long coordinates of Winona and Rochester MN.\n",
    "3. Use `distance` to compute the distance between Winona and Rochester.\n",
    "4. Use some other source (e.g., Google Maps) to check the answer."
   ]
  },
  {
   "cell_type": "code",
   "execution_count": 8,
   "metadata": {
    "id": "m-XZZQ2v-i4t"
   },
   "outputs": [],
   "source": [
    "# Your code here"
   ]
  },
  {
   "cell_type": "code",
   "execution_count": 9,
   "metadata": {},
   "outputs": [],
   "source": [
    "from geopy import distance"
   ]
  },
  {
   "cell_type": "code",
   "execution_count": 10,
   "metadata": {},
   "outputs": [],
   "source": [
    "# Winona: 44.050556, -91.668333\n",
    "# Rochester: 44.023333, -92.461389"
   ]
  },
  {
   "cell_type": "code",
   "execution_count": 11,
   "metadata": {},
   "outputs": [],
   "source": [
    "#help(distance)"
   ]
  },
  {
   "cell_type": "code",
   "execution_count": 12,
   "metadata": {},
   "outputs": [
    {
     "name": "stdout",
     "output_type": "stream",
     "text": [
      "39.54418575388878\n"
     ]
    }
   ],
   "source": [
    "winona = (44.050556, -91.668333)\n",
    "rochester = (44.023333, -92.461389)\n",
    "\n",
    "print(distance.distance(winona, rochester).miles)"
   ]
  },
  {
   "cell_type": "markdown",
   "metadata": {
    "id": "FHdoE7ZFBXlU"
   },
   "source": [
    "#### Task 1.3 - Investigate `gzip`\n",
    "\n",
    "The yearly NOAA data is compressed as `.gz` files, which need to be uncompressed using `gzip`.  Explore the `gzip` module by\n",
    "\n",
    "1. Exploring the documentation/help for the `gzip` module,\n",
    "2. Using `wget` to download the following link into the `./data` folder, and\n",
    "3. Using `gzip` to uncompress this file.\n",
    "4. Inspect the data in your list, which should be of type `byte`.  Use a comprehension with the expression `l.decode('utf-8')` to convert this to a list of strings.\n",
    "5. Write the uncompressed lines to an output file using `with open(path, 'w') as out` and the `writelines` method of `out`.  \n",
    "\n",
    "**Link.** [https://www.ncei.noaa.gov/pub/data/ghcn/daily/by_year/1750.csv.gz](https://www.ncei.noaa.gov/pub/data/ghcn/daily/by_year/1750.csv.gz)"
   ]
  },
  {
   "cell_type": "code",
   "execution_count": 13,
   "metadata": {
    "id": "88NVuihyCBBO"
   },
   "outputs": [],
   "source": [
    "# Your code here"
   ]
  },
  {
   "cell_type": "code",
   "execution_count": 14,
   "metadata": {},
   "outputs": [],
   "source": [
    "import gzip"
   ]
  },
  {
   "cell_type": "code",
   "execution_count": 15,
   "metadata": {},
   "outputs": [
    {
     "name": "stdout",
     "output_type": "stream",
     "text": [
      "Help on module gzip:\n",
      "\n",
      "NAME\n",
      "    gzip - Functions that read and write gzipped files.\n",
      "\n",
      "MODULE REFERENCE\n",
      "    https://docs.python.org/3.12/library/gzip.html\n",
      "\n",
      "    The following documentation is automatically generated from the Python\n",
      "    source files.  It may be incomplete, incorrect or include features that\n",
      "    are considered implementation detail and may vary between Python\n",
      "    implementations.  When in doubt, consult the module reference at the\n",
      "    location listed above.\n",
      "\n",
      "DESCRIPTION\n",
      "    The user of the file doesn't have to worry about the compression,\n",
      "    but random access is not allowed.\n",
      "\n",
      "CLASSES\n",
      "    _compression.BaseStream(io.BufferedIOBase)\n",
      "        GzipFile\n",
      "    builtins.OSError(builtins.Exception)\n",
      "        BadGzipFile\n",
      "\n",
      "    class BadGzipFile(builtins.OSError)\n",
      "     |  Exception raised in some cases for invalid gzip files.\n",
      "     |\n",
      "     |  Method resolution order:\n",
      "     |      BadGzipFile\n",
      "     |      builtins.OSError\n",
      "     |      builtins.Exception\n",
      "     |      builtins.BaseException\n",
      "     |      builtins.object\n",
      "     |\n",
      "     |  Data descriptors defined here:\n",
      "     |\n",
      "     |  __weakref__\n",
      "     |      list of weak references to the object\n",
      "     |\n",
      "     |  ----------------------------------------------------------------------\n",
      "     |  Methods inherited from builtins.OSError:\n",
      "     |\n",
      "     |  __init__(self, /, *args, **kwargs)\n",
      "     |      Initialize self.  See help(type(self)) for accurate signature.\n",
      "     |\n",
      "     |  __reduce__(...)\n",
      "     |      Helper for pickle.\n",
      "     |\n",
      "     |  __str__(self, /)\n",
      "     |      Return str(self).\n",
      "     |\n",
      "     |  ----------------------------------------------------------------------\n",
      "     |  Static methods inherited from builtins.OSError:\n",
      "     |\n",
      "     |  __new__(*args, **kwargs) class method of builtins.OSError\n",
      "     |      Create and return a new object.  See help(type) for accurate signature.\n",
      "     |\n",
      "     |  ----------------------------------------------------------------------\n",
      "     |  Data descriptors inherited from builtins.OSError:\n",
      "     |\n",
      "     |  characters_written\n",
      "     |\n",
      "     |  errno\n",
      "     |      POSIX exception code\n",
      "     |\n",
      "     |  filename\n",
      "     |      exception filename\n",
      "     |\n",
      "     |  filename2\n",
      "     |      second exception filename\n",
      "     |\n",
      "     |  strerror\n",
      "     |      exception strerror\n",
      "     |\n",
      "     |  winerror\n",
      "     |      Win32 exception code\n",
      "     |\n",
      "     |  ----------------------------------------------------------------------\n",
      "     |  Methods inherited from builtins.BaseException:\n",
      "     |\n",
      "     |  __getattribute__(self, name, /)\n",
      "     |      Return getattr(self, name).\n",
      "     |\n",
      "     |  __repr__(self, /)\n",
      "     |      Return repr(self).\n",
      "     |\n",
      "     |  __setstate__(...)\n",
      "     |\n",
      "     |  add_note(...)\n",
      "     |      Exception.add_note(note) --\n",
      "     |      add a note to the exception\n",
      "     |\n",
      "     |  with_traceback(...)\n",
      "     |      Exception.with_traceback(tb) --\n",
      "     |      set self.__traceback__ to tb and return self.\n",
      "     |\n",
      "     |  ----------------------------------------------------------------------\n",
      "     |  Data descriptors inherited from builtins.BaseException:\n",
      "     |\n",
      "     |  __cause__\n",
      "     |      exception cause\n",
      "     |\n",
      "     |  __context__\n",
      "     |      exception context\n",
      "     |\n",
      "     |  __dict__\n",
      "     |\n",
      "     |  __suppress_context__\n",
      "     |\n",
      "     |  __traceback__\n",
      "     |\n",
      "     |  args\n",
      "\n",
      "    class GzipFile(_compression.BaseStream)\n",
      "     |  GzipFile(filename=None, mode=None, compresslevel=9, fileobj=None, mtime=None)\n",
      "     |\n",
      "     |  The GzipFile class simulates most of the methods of a file object with\n",
      "     |  the exception of the truncate() method.\n",
      "     |\n",
      "     |  This class only supports opening files in binary mode. If you need to open a\n",
      "     |  compressed file in text mode, use the gzip.open() function.\n",
      "     |\n",
      "     |  Method resolution order:\n",
      "     |      GzipFile\n",
      "     |      _compression.BaseStream\n",
      "     |      io.BufferedIOBase\n",
      "     |      _io._BufferedIOBase\n",
      "     |      io.IOBase\n",
      "     |      _io._IOBase\n",
      "     |      builtins.object\n",
      "     |\n",
      "     |  Methods defined here:\n",
      "     |\n",
      "     |  __init__(self, filename=None, mode=None, compresslevel=9, fileobj=None, mtime=None)\n",
      "     |      Constructor for the GzipFile class.\n",
      "     |\n",
      "     |      At least one of fileobj and filename must be given a\n",
      "     |      non-trivial value.\n",
      "     |\n",
      "     |      The new class instance is based on fileobj, which can be a regular\n",
      "     |      file, an io.BytesIO object, or any other object which simulates a file.\n",
      "     |      It defaults to None, in which case filename is opened to provide\n",
      "     |      a file object.\n",
      "     |\n",
      "     |      When fileobj is not None, the filename argument is only used to be\n",
      "     |      included in the gzip file header, which may include the original\n",
      "     |      filename of the uncompressed file.  It defaults to the filename of\n",
      "     |      fileobj, if discernible; otherwise, it defaults to the empty string,\n",
      "     |      and in this case the original filename is not included in the header.\n",
      "     |\n",
      "     |      The mode argument can be any of 'r', 'rb', 'a', 'ab', 'w', 'wb', 'x', or\n",
      "     |      'xb' depending on whether the file will be read or written.  The default\n",
      "     |      is the mode of fileobj if discernible; otherwise, the default is 'rb'.\n",
      "     |      A mode of 'r' is equivalent to one of 'rb', and similarly for 'w' and\n",
      "     |      'wb', 'a' and 'ab', and 'x' and 'xb'.\n",
      "     |\n",
      "     |      The compresslevel argument is an integer from 0 to 9 controlling the\n",
      "     |      level of compression; 1 is fastest and produces the least compression,\n",
      "     |      and 9 is slowest and produces the most compression. 0 is no compression\n",
      "     |      at all. The default is 9.\n",
      "     |\n",
      "     |      The mtime argument is an optional numeric timestamp to be written\n",
      "     |      to the last modification time field in the stream when compressing.\n",
      "     |      If omitted or None, the current time is used.\n",
      "     |\n",
      "     |  __repr__(self)\n",
      "     |      Return repr(self).\n",
      "     |\n",
      "     |  close(self)\n",
      "     |      Flush and close the IO object.\n",
      "     |\n",
      "     |      This method has no effect if the file is already closed.\n",
      "     |\n",
      "     |  fileno(self)\n",
      "     |      Invoke the underlying file object's fileno() method.\n",
      "     |\n",
      "     |      This will raise AttributeError if the underlying file object\n",
      "     |      doesn't support fileno().\n",
      "     |\n",
      "     |  flush(self, zlib_mode=2)\n",
      "     |      Flush write buffers, if applicable.\n",
      "     |\n",
      "     |      This is not implemented for read-only and non-blocking streams.\n",
      "     |\n",
      "     |  peek(self, n)\n",
      "     |\n",
      "     |  read(self, size=-1)\n",
      "     |      Read and return up to n bytes.\n",
      "     |\n",
      "     |      If the size argument is omitted, None, or negative, read and\n",
      "     |      return all data until EOF.\n",
      "     |\n",
      "     |      If the size argument is positive, and the underlying raw stream is\n",
      "     |      not 'interactive', multiple raw reads may be issued to satisfy\n",
      "     |      the byte count (unless EOF is reached first).\n",
      "     |      However, for interactive raw streams (as well as sockets and pipes),\n",
      "     |      at most one raw read will be issued, and a short result does not\n",
      "     |      imply that EOF is imminent.\n",
      "     |\n",
      "     |      Return an empty bytes object on EOF.\n",
      "     |\n",
      "     |      Return None if the underlying raw stream was open in non-blocking\n",
      "     |      mode and no data is available at the moment.\n",
      "     |\n",
      "     |  read1(self, size=-1)\n",
      "     |      Implements BufferedIOBase.read1()\n",
      "     |\n",
      "     |      Reads up to a buffer's worth of data if size is negative.\n",
      "     |\n",
      "     |  readable(self)\n",
      "     |      Return whether object was opened for reading.\n",
      "     |\n",
      "     |      If False, read() will raise OSError.\n",
      "     |\n",
      "     |  readline(self, size=-1)\n",
      "     |      Read and return a line from the stream.\n",
      "     |\n",
      "     |      If size is specified, at most size bytes will be read.\n",
      "     |\n",
      "     |      The line terminator is always b'\\n' for binary files; for text\n",
      "     |      files, the newlines argument to open can be used to select the line\n",
      "     |      terminator(s) recognized.\n",
      "     |\n",
      "     |  rewind(self)\n",
      "     |      Return the uncompressed stream file position indicator to the\n",
      "     |      beginning of the file\n",
      "     |\n",
      "     |  seek(self, offset, whence=0)\n",
      "     |      Change the stream position to the given byte offset.\n",
      "     |\n",
      "     |        offset\n",
      "     |          The stream position, relative to 'whence'.\n",
      "     |        whence\n",
      "     |          The relative position to seek from.\n",
      "     |\n",
      "     |      The offset is interpreted relative to the position indicated by whence.\n",
      "     |      Values for whence are:\n",
      "     |\n",
      "     |      * os.SEEK_SET or 0 -- start of stream (the default); offset should be zero or positive\n",
      "     |      * os.SEEK_CUR or 1 -- current stream position; offset may be negative\n",
      "     |      * os.SEEK_END or 2 -- end of stream; offset is usually negative\n",
      "     |\n",
      "     |      Return the new absolute position.\n",
      "     |\n",
      "     |  seekable(self)\n",
      "     |      Return whether object supports random access.\n",
      "     |\n",
      "     |      If False, seek(), tell() and truncate() will raise OSError.\n",
      "     |      This method may need to do a test seek().\n",
      "     |\n",
      "     |  tell(self)\n",
      "     |      Return current stream position.\n",
      "     |\n",
      "     |  writable(self)\n",
      "     |      Return whether object was opened for writing.\n",
      "     |\n",
      "     |      If False, write() will raise OSError.\n",
      "     |\n",
      "     |  write(self, data)\n",
      "     |      Write buffer b to the IO stream.\n",
      "     |\n",
      "     |      Return the number of bytes written, which is always\n",
      "     |      the length of b in bytes.\n",
      "     |\n",
      "     |      Raise BlockingIOError if the buffer is full and the\n",
      "     |      underlying raw stream cannot accept more data at the moment.\n",
      "     |\n",
      "     |  ----------------------------------------------------------------------\n",
      "     |  Readonly properties defined here:\n",
      "     |\n",
      "     |  closed\n",
      "     |\n",
      "     |  mtime\n",
      "     |      Last modification time read from stream, or None\n",
      "     |\n",
      "     |  ----------------------------------------------------------------------\n",
      "     |  Data and other attributes defined here:\n",
      "     |\n",
      "     |  __abstractmethods__ = frozenset()\n",
      "     |\n",
      "     |  myfileobj = None\n",
      "     |\n",
      "     |  ----------------------------------------------------------------------\n",
      "     |  Methods inherited from _io._BufferedIOBase:\n",
      "     |\n",
      "     |  detach(self, /)\n",
      "     |      Disconnect this buffer from its underlying raw stream and return it.\n",
      "     |\n",
      "     |      After the raw stream has been detached, the buffer is in an unusable\n",
      "     |      state.\n",
      "     |\n",
      "     |  readinto(self, buffer, /)\n",
      "     |\n",
      "     |  readinto1(self, buffer, /)\n",
      "     |\n",
      "     |  ----------------------------------------------------------------------\n",
      "     |  Methods inherited from _io._IOBase:\n",
      "     |\n",
      "     |  __del__(...)\n",
      "     |\n",
      "     |  __enter__(...)\n",
      "     |\n",
      "     |  __exit__(...)\n",
      "     |\n",
      "     |  __iter__(self, /)\n",
      "     |      Implement iter(self).\n",
      "     |\n",
      "     |  __next__(self, /)\n",
      "     |      Implement next(self).\n",
      "     |\n",
      "     |  isatty(self, /)\n",
      "     |      Return whether this is an 'interactive' stream.\n",
      "     |\n",
      "     |      Return False if it can't be determined.\n",
      "     |\n",
      "     |  readlines(self, hint=-1, /)\n",
      "     |      Return a list of lines from the stream.\n",
      "     |\n",
      "     |      hint can be specified to control the number of lines read: no more\n",
      "     |      lines will be read if the total size (in bytes/characters) of all\n",
      "     |      lines so far exceeds hint.\n",
      "     |\n",
      "     |  truncate(self, size=None, /)\n",
      "     |      Truncate file to size bytes.\n",
      "     |\n",
      "     |      File pointer is left unchanged. Size defaults to the current IO position\n",
      "     |      as reported by tell(). Return the new size.\n",
      "     |\n",
      "     |  writelines(self, lines, /)\n",
      "     |      Write a list of lines to stream.\n",
      "     |\n",
      "     |      Line separators are not added, so it is usual for each of the\n",
      "     |      lines provided to have a line separator at the end.\n",
      "     |\n",
      "     |  ----------------------------------------------------------------------\n",
      "     |  Data descriptors inherited from _io._IOBase:\n",
      "     |\n",
      "     |  __dict__\n",
      "\n",
      "FUNCTIONS\n",
      "    compress(data, compresslevel=9, *, mtime=None)\n",
      "        Compress data in one shot and return the compressed string.\n",
      "\n",
      "        compresslevel sets the compression level in range of 0-9.\n",
      "        mtime can be used to set the modification time. The modification time is\n",
      "        set to the current time by default.\n",
      "\n",
      "    decompress(data)\n",
      "        Decompress a gzip compressed string in one shot.\n",
      "        Return the decompressed string.\n",
      "\n",
      "    open(filename, mode='rb', compresslevel=9, encoding=None, errors=None, newline=None)\n",
      "        Open a gzip-compressed file in binary or text mode.\n",
      "\n",
      "        The filename argument can be an actual filename (a str or bytes object), or\n",
      "        an existing file object to read from or write to.\n",
      "\n",
      "        The mode argument can be \"r\", \"rb\", \"w\", \"wb\", \"x\", \"xb\", \"a\" or \"ab\" for\n",
      "        binary mode, or \"rt\", \"wt\", \"xt\" or \"at\" for text mode. The default mode is\n",
      "        \"rb\", and the default compresslevel is 9.\n",
      "\n",
      "        For binary mode, this function is equivalent to the GzipFile constructor:\n",
      "        GzipFile(filename, mode, compresslevel). In this case, the encoding, errors\n",
      "        and newline arguments must not be provided.\n",
      "\n",
      "        For text mode, a GzipFile object is created, and wrapped in an\n",
      "        io.TextIOWrapper instance with the specified encoding, error handling\n",
      "        behavior, and line ending(s).\n",
      "\n",
      "DATA\n",
      "    __all__ = ['BadGzipFile', 'GzipFile', 'open', 'compress', 'decompress'...\n",
      "\n",
      "FILE\n",
      "    c:\\users\\mp5667di\\appdata\\local\\anaconda3\\envs\\polars\\lib\\gzip.py\n",
      "\n",
      "\n"
     ]
    }
   ],
   "source": [
    "help(gzip)"
   ]
  },
  {
   "cell_type": "code",
   "execution_count": 21,
   "metadata": {},
   "outputs": [
    {
     "name": "stdout",
     "output_type": "stream",
     "text": [
      "File downloaded to: ./data/1750.csv (1).gz\n"
     ]
    }
   ],
   "source": [
    "# Download the file into the ./data folder\n",
    "url = \"https://www.ncei.noaa.gov/pub/data/ghcn/daily/by_year/1750.csv.gz\"\n",
    "output_path = \"./data/1750.csv.gz\"  # My file path\n",
    "\n",
    "filename = wget.download(url, out=output_path)\n",
    "\n",
    "print(f\"File downloaded to: {filename}\")"
   ]
  },
  {
   "cell_type": "code",
   "execution_count": 33,
   "metadata": {},
   "outputs": [
    {
     "name": "stdout",
     "output_type": "stream",
     "text": [
      "Uncompressed file saved as: ./data/1750_uncompressed.csv\n"
     ]
    }
   ],
   "source": [
    "# Define input and output file paths\n",
    "file_to_uncompress = './data/1750.csv.gz'\n",
    "output_file = './data/1750_uncompressed.csv'\n",
    "\n",
    "# Step 1: Read the compressed file as bytes\n",
    "with open(file_to_uncompress, 'rb') as f:\n",
    "    compressed_data = f.read()  # Read the entire file in binary mode\n",
    "\n",
    "# Step 2: Decompress the data\n",
    "decompressed_data = gzip.decompress(compressed_data)  # Returns bytes\n",
    "\n",
    "# Step 3: Convert bytes to string and split into lines\n",
    "string_lines = decompressed_data.decode('utf-8').splitlines(keepends=True)\n",
    "\n",
    "# Step 4: Write the uncompressed lines to an output file\n",
    "with open(output_file, 'w') as out:\n",
    "    out.writelines(string_lines)\n",
    "\n",
    "print(f\"Uncompressed file saved as: {output_file}\")"
   ]
  },
  {
   "cell_type": "markdown",
   "metadata": {
    "id": "vt1MlIz9DWpm"
   },
   "source": [
    "## Problem 2 - Find all stations within 500 miles of Winona, MN.\n",
    "\n",
    "The file linked below contains information about all stations tracked by NOAA.  \n",
    "\n",
    "*Main folder:* https://www.ncei.noaa.gov/pub/data/ghcn/daily/\n",
    "\n",
    "*Station txt file:* https://www.ncei.noaa.gov/pub/data/ghcn/daily/ghcnd-stations.txt\n",
    "\n",
    "*Note.* While it would be easier to use the CSV version of the station file, you should use the TXT version here (for practice).\n",
    "\n",
    "**Your tasks** Our goal is to get a list of stations that are within 500 miles of Winona.  Do this by\n",
    "\n",
    "1. Using `wget` to download the stations information into the `./data` folder.\n",
    "2. Use `with` to read the lines of this file.\n",
    "3. At this point, the lines are strings in a fixed-width format separated by whitespace.  Use a list comprehension with the string split method to split the raw lines (strings) into a list of entries.\n",
    "4. There are three entries of interest, the station ID and the lat-long coordinates of the station.  Inspect the file to determine the index for these three entries.\n",
    "5. We want to transform the lines (currently a list of strings) into a record, which is a `dict` with good names for the entries as keys and the values representing the data in an appropriate type (string for station ID, `float` for the lat-long).  Use a comprehension to create a list of records as described.\n",
    "6. Use another comprehension to apply a filter to the stations, keeping only those within 500 miles of Winona."
   ]
  },
  {
   "cell_type": "code",
   "execution_count": null,
   "metadata": {
    "id": "F0J443KoFTrs"
   },
   "outputs": [],
   "source": [
    "# Your code here (add cells as needed)"
   ]
  },
  {
   "cell_type": "markdown",
   "metadata": {
    "id": "C7_9ve26IduT"
   },
   "source": [
    "#### Problem 3 - Prototype downloading and uncompressing a station file.\n",
    "\n",
    "Before we download and uncompress all the stations of interest, let's practice on one station file.\n",
    "\n",
    "\n",
    "1. Copy the url for some station and store is as a variable named `url`.\n",
    "2. Write `lambda` functions that extract each of the following from the station `url`: compressed file name, compressed file path (e.g., `./data/...`), and uncompressed file path (e.g., `./data/...`).\n",
    "3. Write a `lambda` function that extracts\n",
    "4. Use `wget` to download this stations data.\n",
    "5. Use `gzip` to uncompress the data.\n",
    "6. Write the data to out output file.\n",
    "\n",
    "Your code should have the following shape:\n",
    "\n",
    "```{Python}\n",
    "wget.download(...)\n",
    "with gzip.open(...) as f:\n",
    "    with open(..., 'w') as out:\n",
    "        f.readlines()\n",
    "        out.writelines(f)\n",
    "```\n",
    "\n",
    "You should be using your helper functions to, in part, fill in the `...`"
   ]
  },
  {
   "cell_type": "code",
   "execution_count": null,
   "metadata": {
    "id": "04YS60A1JciS"
   },
   "outputs": [],
   "source": [
    "# Your code here"
   ]
  },
  {
   "cell_type": "markdown",
   "metadata": {
    "id": "YzgFqv5VF38i"
   },
   "source": [
    "## Problem 4 - Build the station URLs and download the files.\n",
    "\n",
    "**Tasks.** Now you need to build urls for all stations of interest by\n",
    "\n",
    "1. Use a comprehension to extract the stations of interest into a list.\n",
    "2. Investigating the structure of the files stored in the `by_station` folder (see main folder link above).\n",
    "3. Use a comprehension and an `f` string to build a list of URLS for all stations of interest.\n",
    "4. Use `wget` to download the data for the stations of interest into the data folder.\n",
    "5. Use `gzip` to uncompress the files.\n",
    "6. Convert the `bytes` to `str` of format `utf-8`.\n",
    "7. Use the append mode `\"a\"` of `open` with `writelines` to append the data in each file to your output file.\n",
    "\n",
    "While we usually avoid using a `for` loop, we make an exception for code for lengthy IO.  To accomplish steps 4 & 5, use a `for` loop with the following shape.\n",
    "\n",
    "```{Python}\n",
    "for url in station_urls:\n",
    "    wget.download(...)\n",
    "    with gzip.open(...) as f:\n",
    "        with open(..., 'a') as out:\n",
    "            f.readlines()\n",
    "            ... # Convert lines to strings here\n",
    "            out.writelines(f)\n",
    "    print(f\"Downloaded and extracted the data for {url}\")\n",
    "```\n",
    "\n",
    "Note that the code inside the loop should resemble the code from the previous step."
   ]
  },
  {
   "cell_type": "code",
   "execution_count": null,
   "metadata": {
    "id": "SOUt7rCBIZ6f"
   },
   "outputs": [],
   "source": [
    "# Your code here."
   ]
  },
  {
   "cell_type": "code",
   "execution_count": null,
   "metadata": {
    "colab": {
     "base_uri": "https://localhost:8080/",
     "height": 35
    },
    "id": "tnGWOC1xF9kT",
    "outputId": "9b060cfe-aa8e-4930-880c-b720a36fc911"
   },
   "outputs": [
    {
     "data": {
      "application/vnd.google.colaboratory.intrinsic+json": {
       "type": "string"
      },
      "text/plain": [
       "'https://my_fake_website.cool/A123456789'"
      ]
     },
     "execution_count": 23,
     "metadata": {},
     "output_type": "execute_result"
    }
   ],
   "source": [
    "fake_station = \"A123456789\"\n",
    "make_fake_url = lambda s: f\"https://my_fake_website.cool/{s}\"\n",
    "\n",
    "make_fake_url(fake_station)"
   ]
  },
  {
   "cell_type": "code",
   "execution_count": null,
   "metadata": {
    "colab": {
     "base_uri": "https://localhost:8080/"
    },
    "id": "7RPvTJEJGYtc",
    "outputId": "da643b74-66a9-4b29-8cce-a679a2d9fa5a"
   },
   "outputs": [
    {
     "data": {
      "text/plain": [
       "['https://my_fake_website.cool/A0',\n",
       " 'https://my_fake_website.cool/A1',\n",
       " 'https://my_fake_website.cool/A2',\n",
       " 'https://my_fake_website.cool/A3',\n",
       " 'https://my_fake_website.cool/A4',\n",
       " 'https://my_fake_website.cool/A5',\n",
       " 'https://my_fake_website.cool/A6',\n",
       " 'https://my_fake_website.cool/A7',\n",
       " 'https://my_fake_website.cool/A8',\n",
       " 'https://my_fake_website.cool/A9']"
      ]
     },
     "execution_count": 26,
     "metadata": {},
     "output_type": "execute_result"
    }
   ],
   "source": [
    "my_fake_stations =[f'A{i}' for i in range(10)]\n",
    "\n",
    "(my_fake_urls := [make_fake_url(s) for s in my_fake_stations])"
   ]
  },
  {
   "cell_type": "code",
   "execution_count": null,
   "metadata": {
    "id": "jVG4xpnvMvRK"
   },
   "outputs": [],
   "source": [
    "# Your code here"
   ]
  }
 ],
 "metadata": {
  "colab": {
   "provenance": []
  },
  "kernelspec": {
   "display_name": "Python 3 (ipykernel)",
   "language": "python",
   "name": "python3"
  },
  "language_info": {
   "codemirror_mode": {
    "name": "ipython",
    "version": 3
   },
   "file_extension": ".py",
   "mimetype": "text/x-python",
   "name": "python",
   "nbconvert_exporter": "python",
   "pygments_lexer": "ipython3",
   "version": "3.12.7"
  }
 },
 "nbformat": 4,
 "nbformat_minor": 4
}
